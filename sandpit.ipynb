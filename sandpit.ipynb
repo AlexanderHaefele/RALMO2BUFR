{
 "cells": [
  {
   "cell_type": "code",
   "execution_count": null,
   "metadata": {},
   "outputs": [],
   "source": [
    "# as recommended here: https://meteoswiss.atlassian.net/wiki/x/4CFpE\n",
    "# meld /store_new/mch/msopr/bash-templates/bashrc ~/.bashrc\n",
    "# meld /store_new/mch/msopr/bash-templates/alias ~/.alias\n",
    "# meld /store_new/mch/msopr/bash-templates/profile ~/.profile\n",
    "\n",
    "# module use $USER_ENV_ROOT/modules\n",
    "# module load eccodes\n",
    "\n"
   ]
  }
 ],
 "metadata": {
  "language_info": {
   "name": "python"
  }
 },
 "nbformat": 4,
 "nbformat_minor": 2
}
